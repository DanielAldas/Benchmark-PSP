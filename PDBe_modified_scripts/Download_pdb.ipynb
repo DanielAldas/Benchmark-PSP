{
 "cells": [
  {
   "cell_type": "code",
   "execution_count": 2,
   "metadata": {},
   "outputs": [],
   "source": [
    "import urllib.request"
   ]
  },
  {
   "cell_type": "code",
   "execution_count": 3,
   "metadata": {},
   "outputs": [],
   "source": [
    "def download_pdb(pdbcode, datadir, downloadurl=\"https://files.rcsb.org/download/\"):\n",
    "    \"\"\"\n",
    "    Downloads a PDB file from the Internet and saves it in a data directory.\n",
    "    :param pdbcode: The standard PDB ID \n",
    "    :param datadir: The directory where the downloaded file will be saved\n",
    "    :param downloadurl: The base PDB download URL, cf.\n",
    "        `https://www.rcsb.org/pages/download/http#structures` for details\n",
    "    :return: the full path to the downloaded PDB file or None if something went wrong\n",
    "    \"\"\"\n",
    "    pdbfn = pdbcode + \".pdb\"\n",
    "    url = downloadurl + pdbfn\n",
    "    outfnm = os.path.join(datadir, pdbfn)\n",
    "    try:\n",
    "        urllib.request.urlretrieve(url, outfnm)\n",
    "        return outfnm\n",
    "    except Exception as err:\n",
    "        print(str(err), file=sys.stderr)\n",
    "        return None"
   ]
  },
  {
   "cell_type": "code",
   "execution_count": 4,
   "metadata": {},
   "outputs": [],
   "source": [
    "datadir=('./pdb/oneid')"
   ]
  },
  {
   "cell_type": "code",
   "execution_count": 3,
   "metadata": {},
   "outputs": [],
   "source": [
    "%store -r id_list"
   ]
  },
  {
   "cell_type": "code",
   "execution_count": 1,
   "metadata": {},
   "outputs": [],
   "source": [
    "%store -r pdb_id"
   ]
  },
  {
   "cell_type": "code",
   "execution_count": 7,
   "metadata": {},
   "outputs": [],
   "source": [
    "for i in range(len(pdb_id)):\n",
    "    download_pdb(pdbcode=pdb_id[i], datadir=datadir)"
   ]
  }
 ],
 "metadata": {
  "kernelspec": {
   "display_name": "Python 3.8.5 ('base')",
   "language": "python",
   "name": "python3"
  },
  "language_info": {
   "codemirror_mode": {
    "name": "ipython",
    "version": 3
   },
   "file_extension": ".py",
   "mimetype": "text/x-python",
   "name": "python",
   "nbconvert_exporter": "python",
   "pygments_lexer": "ipython3",
   "version": "3.8.5"
  },
  "orig_nbformat": 4,
  "vscode": {
   "interpreter": {
    "hash": "4d9defa72c2715dab9f7f172572cd30a1ab1a2083462d32ef96aadb7c6e0c73b"
   }
  }
 },
 "nbformat": 4,
 "nbformat_minor": 2
}
