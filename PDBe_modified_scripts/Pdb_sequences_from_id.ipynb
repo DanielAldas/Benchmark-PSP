{
 "cells": [
  {
   "cell_type": "code",
   "execution_count": 1,
   "metadata": {},
   "outputs": [],
   "source": [
    "import pandas as pd\n",
    "import json\n",
    "import timeit\n",
    "import seaborn as sns\n",
    "from modlamp.descriptors import PeptideDescriptor, GlobalDescriptor"
   ]
  },
  {
   "cell_type": "code",
   "execution_count": 2,
   "metadata": {},
   "outputs": [],
   "source": [
    "%store -r total_res"
   ]
  },
  {
   "cell_type": "markdown",
   "metadata": {},
   "source": [
    "## Dataframe con todos los resultados"
   ]
  },
  {
   "cell_type": "code",
   "execution_count": 4,
   "metadata": {},
   "outputs": [],
   "source": [
    "def res_to_pandas(total_res):\n",
    "    \"\"\"\n",
    "    Transform nested dictionary from multiple \n",
    "    sequence search into a dataframe\n",
    "    :param dict total_res: nested dictionary from multiple sequence search\n",
    "    :return res_pd: Pandas dataframe with all the results\n",
    "    \"\"\"\n",
    "    \n",
    "    #Getting a DataFrame containing all values from the nested dict\n",
    "    from itertools import chain\n",
    "    values=list(total_res.values())\n",
    "    list_values=list(chain.from_iterable(values))\n",
    "    values_df=pd.DataFrame(list_values)\n",
    "    values_df=values_df.drop(columns=['chain_id','entity_id','entry_entity','result_sequence'])\n",
    "    \n",
    "    #Now create a dataframe with all query sequences respecting indexes\n",
    "    key_list = [[k,v] for k, values in total_res.items() for v in values]\n",
    "    df_list=pd.DataFrame(key_list)\n",
    "    df_list.drop(1, axis=1,inplace=True) #Dropping values (list of dicts)\n",
    "    df_list.rename(columns={0:'query_sequences'},inplace=True)\n",
    "    \n",
    "    #Concatenating both DataFrames\n",
    "    res_df=pd.concat([df_list,values_df],axis=1)\n",
    "    \n",
    "    return res_df"
   ]
  },
  {
   "cell_type": "code",
   "execution_count": 5,
   "metadata": {},
   "outputs": [],
   "source": [
    "res_df=res_to_pandas(total_res)"
   ]
  },
  {
   "cell_type": "code",
   "execution_count": 6,
   "metadata": {},
   "outputs": [
    {
     "data": {
      "text/html": [
       "<div>\n",
       "<style scoped>\n",
       "    .dataframe tbody tr th:only-of-type {\n",
       "        vertical-align: middle;\n",
       "    }\n",
       "\n",
       "    .dataframe tbody tr th {\n",
       "        vertical-align: top;\n",
       "    }\n",
       "\n",
       "    .dataframe thead th {\n",
       "        text-align: right;\n",
       "    }\n",
       "</style>\n",
       "<table border=\"1\" class=\"dataframe\">\n",
       "  <thead>\n",
       "    <tr style=\"text-align: right;\">\n",
       "      <th></th>\n",
       "      <th>query_sequences</th>\n",
       "      <th>molecule_name</th>\n",
       "      <th>pdb_id</th>\n",
       "      <th>e_value</th>\n",
       "      <th>percentage_identity</th>\n",
       "    </tr>\n",
       "  </thead>\n",
       "  <tbody>\n",
       "    <tr>\n",
       "      <th>0</th>\n",
       "      <td>GLPRKILCAIAKKKGKCKGPLKLVCKC</td>\n",
       "      <td>[Lasiocepsin]</td>\n",
       "      <td>2mbd</td>\n",
       "      <td>1.100000e-13</td>\n",
       "      <td>100.0</td>\n",
       "    </tr>\n",
       "    <tr>\n",
       "      <th>1</th>\n",
       "      <td>GFGCPGDAYQCSEHCRALGGGRTGGYCAGPWYLGHPTCTCSF</td>\n",
       "      <td>[Fungal defensin eurocin]</td>\n",
       "      <td>2lt8</td>\n",
       "      <td>5.700000e-22</td>\n",
       "      <td>100.0</td>\n",
       "    </tr>\n",
       "    <tr>\n",
       "      <th>2</th>\n",
       "      <td>GFGCPGDAYQCSEHCRALGGGRTGGYCAGPWYLGHPTCTCSF</td>\n",
       "      <td>[Defensin MGD-1]</td>\n",
       "      <td>1fjn</td>\n",
       "      <td>3.900000e-06</td>\n",
       "      <td>52.5</td>\n",
       "    </tr>\n",
       "    <tr>\n",
       "      <th>3</th>\n",
       "      <td>GFGCPGDAYQCSEHCRALGGGRTGGYCAGPWYLGHPTCTCSF</td>\n",
       "      <td>[micasin]</td>\n",
       "      <td>2lr5</td>\n",
       "      <td>6.500000e-05</td>\n",
       "      <td>50.0</td>\n",
       "    </tr>\n",
       "    <tr>\n",
       "      <th>4</th>\n",
       "      <td>GFGCPGDAYQCSEHCRALGGGRTGGYCAGPWYLGHPTCTCSF</td>\n",
       "      <td>[INVERT_DEFENSINS domain-containing protein]</td>\n",
       "      <td>2ru0</td>\n",
       "      <td>1.600000e-04</td>\n",
       "      <td>47.5</td>\n",
       "    </tr>\n",
       "    <tr>\n",
       "      <th>...</th>\n",
       "      <td>...</td>\n",
       "      <td>...</td>\n",
       "      <td>...</td>\n",
       "      <td>...</td>\n",
       "      <td>...</td>\n",
       "    </tr>\n",
       "    <tr>\n",
       "      <th>10013</th>\n",
       "      <td>TFFRLFNR</td>\n",
       "      <td>[Competence stimulating protein]</td>\n",
       "      <td>2i2j</td>\n",
       "      <td>5.500000e-02</td>\n",
       "      <td>100.0</td>\n",
       "    </tr>\n",
       "    <tr>\n",
       "      <th>10014</th>\n",
       "      <td>RRSVQWCA</td>\n",
       "      <td>[Lactoferricin-H]</td>\n",
       "      <td>1z6w</td>\n",
       "      <td>2.800000e-02</td>\n",
       "      <td>100.0</td>\n",
       "    </tr>\n",
       "    <tr>\n",
       "      <th>10015</th>\n",
       "      <td>RRSVQWCA</td>\n",
       "      <td>[Lactoferricin-H]</td>\n",
       "      <td>1z6v</td>\n",
       "      <td>2.800000e-02</td>\n",
       "      <td>100.0</td>\n",
       "    </tr>\n",
       "    <tr>\n",
       "      <th>10016</th>\n",
       "      <td>FKCRRWQWR</td>\n",
       "      <td>[Lactoferricin-B]</td>\n",
       "      <td>1lfc</td>\n",
       "      <td>1.200000e-04</td>\n",
       "      <td>100.0</td>\n",
       "    </tr>\n",
       "    <tr>\n",
       "      <th>10017</th>\n",
       "      <td>FKCRRWQWR</td>\n",
       "      <td>[Lactotransferrin]</td>\n",
       "      <td>1blf</td>\n",
       "      <td>3.200000e-03</td>\n",
       "      <td>100.0</td>\n",
       "    </tr>\n",
       "  </tbody>\n",
       "</table>\n",
       "<p>10018 rows × 5 columns</p>\n",
       "</div>"
      ],
      "text/plain": [
       "                                  query_sequences  \\\n",
       "0                     GLPRKILCAIAKKKGKCKGPLKLVCKC   \n",
       "1      GFGCPGDAYQCSEHCRALGGGRTGGYCAGPWYLGHPTCTCSF   \n",
       "2      GFGCPGDAYQCSEHCRALGGGRTGGYCAGPWYLGHPTCTCSF   \n",
       "3      GFGCPGDAYQCSEHCRALGGGRTGGYCAGPWYLGHPTCTCSF   \n",
       "4      GFGCPGDAYQCSEHCRALGGGRTGGYCAGPWYLGHPTCTCSF   \n",
       "...                                           ...   \n",
       "10013                                    TFFRLFNR   \n",
       "10014                                    RRSVQWCA   \n",
       "10015                                    RRSVQWCA   \n",
       "10016                                   FKCRRWQWR   \n",
       "10017                                   FKCRRWQWR   \n",
       "\n",
       "                                      molecule_name pdb_id       e_value  \\\n",
       "0                                     [Lasiocepsin]   2mbd  1.100000e-13   \n",
       "1                         [Fungal defensin eurocin]   2lt8  5.700000e-22   \n",
       "2                                  [Defensin MGD-1]   1fjn  3.900000e-06   \n",
       "3                                         [micasin]   2lr5  6.500000e-05   \n",
       "4      [INVERT_DEFENSINS domain-containing protein]   2ru0  1.600000e-04   \n",
       "...                                             ...    ...           ...   \n",
       "10013              [Competence stimulating protein]   2i2j  5.500000e-02   \n",
       "10014                             [Lactoferricin-H]   1z6w  2.800000e-02   \n",
       "10015                             [Lactoferricin-H]   1z6v  2.800000e-02   \n",
       "10016                             [Lactoferricin-B]   1lfc  1.200000e-04   \n",
       "10017                            [Lactotransferrin]   1blf  3.200000e-03   \n",
       "\n",
       "       percentage_identity  \n",
       "0                    100.0  \n",
       "1                    100.0  \n",
       "2                     52.5  \n",
       "3                     50.0  \n",
       "4                     47.5  \n",
       "...                    ...  \n",
       "10013                100.0  \n",
       "10014                100.0  \n",
       "10015                100.0  \n",
       "10016                100.0  \n",
       "10017                100.0  \n",
       "\n",
       "[10018 rows x 5 columns]"
      ]
     },
     "execution_count": 6,
     "metadata": {},
     "output_type": "execute_result"
    }
   ],
   "source": [
    "res_df"
   ]
  },
  {
   "cell_type": "code",
   "execution_count": 4,
   "metadata": {},
   "outputs": [],
   "source": [
    "%store -r total_res"
   ]
  },
  {
   "cell_type": "markdown",
   "metadata": {},
   "source": [
    "## PDB sequence"
   ]
  },
  {
   "cell_type": "code",
   "execution_count": null,
   "metadata": {},
   "outputs": [],
   "source": [
    "import re\n",
    "import requests\n",
    "\n",
    "base_url = \"https://www.ebi.ac.uk/pdbe/\"\n",
    "\n",
    "api_base = base_url + \"api/\"\n",
    "\n",
    "molecules_url = api_base + '/pdb/entry/molecules/'"
   ]
  },
  {
   "cell_type": "code",
   "execution_count": 6,
   "metadata": {},
   "outputs": [],
   "source": [
    "def make_request(url, mode, pdb_id):\n",
    "    \"\"\"\n",
    "    This function can make GET and POST requests to\n",
    "    the PDBe API\n",
    "    \n",
    "    :param url: String,\n",
    "    :param mode: String,\n",
    "    :param pdb_id: String\n",
    "    :return: JSON or None\n",
    "    \"\"\"\n",
    "    if mode == \"get\":\n",
    "        response = requests.get(url=url+pdb_id)\n",
    "    elif mode == \"post\":\n",
    "        response = requests.post(url, data=pdb_id)\n",
    "\n",
    "    if response.status_code == 200:\n",
    "        return response.json()\n",
    "    else:\n",
    "        print(\"[No data retrieved - %s] %s\" % (response.status_code, response.text))\n",
    "    \n",
    "    return None"
   ]
  },
  {
   "cell_type": "code",
   "execution_count": 7,
   "metadata": {},
   "outputs": [],
   "source": [
    "def get_pdb_sequence(pdb_id_list):\n",
    "    \"\"\"\n",
    "    Get sequences associated with pdb ids\n",
    "    \"\"\"\n",
    "    start = timeit.default_timer()\n",
    "    res=[]\n",
    "    i=0\n",
    "    while i < len(pdb_id_list):\n",
    "            data=make_request(molecules_url,'get',pdb_id_list[i])\n",
    "            sequence=data.get(pdb_id_list[i])[0].get('sequence')\n",
    "            res.append(sequence)\n",
    "            i=i+1\n",
    "            print(str(i)+\" sequences of \"+str(len(pdb_id_list)))\n",
    "    \n",
    "    else:\n",
    "            stop = timeit.default_timer()\n",
    "            temp = stop-start\n",
    "            print(\"Done!\")\n",
    "            hours = temp//3600\n",
    "            temp = temp - 3600*hours\n",
    "            minutes = temp//60\n",
    "            seconds = temp - 60*minutes\n",
    "            print(\"Run time: \" + '%d:%d:%d' %(hours,minutes,seconds)) \n",
    "            \n",
    "            \n",
    "    return res"
   ]
  },
  {
   "cell_type": "code",
   "execution_count": 84,
   "metadata": {},
   "outputs": [],
   "source": [
    "pdbid_list=pd.Series.tolist(res_df['pdb_id'])"
   ]
  },
  {
   "cell_type": "code",
   "execution_count": null,
   "metadata": {},
   "outputs": [],
   "source": [
    "pdb_sequences=get_pdb_sequence(pdbid_list)"
   ]
  },
  {
   "cell_type": "code",
   "execution_count": 55,
   "metadata": {},
   "outputs": [],
   "source": [
    "res_df['pdb_sequence']=pdb_sequences"
   ]
  },
  {
   "cell_type": "code",
   "execution_count": null,
   "metadata": {},
   "outputs": [],
   "source": [
    "sec_query=pd.Series.tolist(res_df[\"query_sequences\"])\n",
    "globaldesc=GlobalDescriptor(sec_query)\n",
    "globaldesc.length()\n",
    "lon=globaldesc.descriptor\n",
    "res_df[\"query_sequence_length\"]=lon"
   ]
  },
  {
   "cell_type": "code",
   "execution_count": null,
   "metadata": {},
   "outputs": [],
   "source": [
    "sec_pdb=pd.Series.tolist(res_df[\"pdb_sequence\"])\n",
    "globaldesc=GlobalDescriptor(sec_pdb)\n",
    "globaldesc.length()\n",
    "pdb_lon=globaldesc.descriptor\n",
    "res_df[\"pdb_sequence_length\"]=pdb_lon"
   ]
  },
  {
   "cell_type": "code",
   "execution_count": null,
   "metadata": {},
   "outputs": [],
   "source": [
    "res_df=res_df[[\"query_sequences\",\"query_sequence_length\",\"pdb_sequence\",\"pdb_sequence_length\",\"pdb_id\",\"e_value\",\"percentage_identity\",\"molecule_name\"]]"
   ]
  },
  {
   "cell_type": "code",
   "execution_count": 1,
   "metadata": {},
   "outputs": [],
   "source": [
    "%store -r res_df"
   ]
  }
 ],
 "metadata": {
  "interpreter": {
   "hash": "4d9defa72c2715dab9f7f172572cd30a1ab1a2083462d32ef96aadb7c6e0c73b"
  },
  "kernelspec": {
   "display_name": "Python 3.8.5 ('base')",
   "language": "python",
   "name": "python3"
  },
  "language_info": {
   "codemirror_mode": {
    "name": "ipython",
    "version": 3
   },
   "file_extension": ".py",
   "mimetype": "text/x-python",
   "name": "python",
   "nbconvert_exporter": "python",
   "pygments_lexer": "ipython3",
   "version": "3.8.5"
  }
 },
 "nbformat": 4,
 "nbformat_minor": 4
}
